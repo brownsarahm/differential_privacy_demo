{
 "cells": [
  {
   "cell_type": "markdown",
   "metadata": {},
   "source": [
    "# Differential Privacy for Data sets\n",
    "\n",
    "Next, we'll work with differentially privat copies of data sets and see how that changes\n",
    "\n",
    "We will use the [Data Synthesizer](http://demo.dataresponsibly.com/synthesizer/) tool from NYU to generate differntially private data sets"
   ]
  },
  {
   "cell_type": "code",
   "execution_count": null,
   "metadata": {},
   "outputs": [],
   "source": [
    "from IPython.display import display\n",
    "from sklearn.linear_model import LogisticRegression, LogisticRegressionCV\n",
    "from sklearn.metrics import accuracy_score, confusion_matrix, make_scorer, precision_recall_fscore_support, roc_auc_score\n",
    "from sklearn.model_selection import GridSearchCV, StratifiedKFold, train_test_split\n",
    "from sklearn.pipeline import Pipeline\n",
    "from sklearn.preprocessing import RobustScaler, StandardScaler\n",
    "import io\n",
    "import requests\n",
    "\n",
    "import numpy as np\n",
    "import pandas as pd"
   ]
  },
  {
   "cell_type": "markdown",
   "metadata": {},
   "source": [
    "## Simple learning exampl\n",
    "\n",
    "First, train a basic classifier on a familiar dataset"
   ]
  },
  {
   "cell_type": "code",
   "execution_count": null,
   "metadata": {},
   "outputs": [],
   "source": [
    "df_adult_real = pd.read_csv('adult_reduced.csv')\n",
    "df_adult_real.head()"
   ]
  },
  {
   "cell_type": "code",
   "execution_count": null,
   "metadata": {},
   "outputs": [],
   "source": [
    "\n",
    "def adult_lr_prep(df):\n",
    "    y_all = df[\"income\"].values\n",
    "    df.drop(\"income\", axis=1, inplace=True,)\n",
    "    df = pd.get_dummies(df, columns=['sex',\"education\", \"marital-status\",  \"relationship\"])\n",
    "    # split the data and train a logistic regression predictor\n",
    "    X_train, X_test, y_train, y_test = train_test_split(\n",
    "    df, y_all, test_size=0.25, stratify=y_all, )\n",
    "    \n",
    "    return X_train, X_test, y_train, y_test"
   ]
  },
  {
   "cell_type": "code",
   "execution_count": null,
   "metadata": {},
   "outputs": [],
   "source": [
    "\n",
    "X_train_real, X_test_real, y_train_real, y_test_real, = adult_lr_prep(df_adult_real)\n",
    "X_train_real.head()"
   ]
  },
  {
   "cell_type": "code",
   "execution_count": null,
   "metadata": {},
   "outputs": [],
   "source": [
    "\n",
    "clf = LogisticRegression()\n",
    "clf_fit_real = clf.fit(X_train_real, y_train_real)\n",
    "y_pred_real = clf_fit_real.predict(X_test_real)\n",
    "accuracy_score(y_test_real, y_pred_real)"
   ]
  },
  {
   "cell_type": "markdown",
   "metadata": {},
   "source": [
    "## Impact of DP on learning\n",
    "\n",
    "Next your goal is to evaluate how differentially private synthetic data impacts your ability to learn. To do this:\n",
    "\n",
    "1. Generate a dataset from the Dataset Sythesizer\n",
    "1. Load that data\n",
    "1. train a classifier on the private data\n",
    "1. evaluate on the real data.\n",
    "\n",
    "\n",
    "Notes: \n",
    "- the code below is incomplete, you need to fill in places that have `#TODO`\n",
    "- when you generate synthetic data, make the same number of samples as above or you will have to adjust things below"
   ]
  },
  {
   "cell_type": "code",
   "execution_count": null,
   "metadata": {},
   "outputs": [],
   "source": [
    "df_adult_dp = pd.read_csv(#TODO)\n",
    "X_train_dp, X_test_dp, y_train_dp, y_test_dp, = adult_lr_prep(#TODO)\n",
    "X_train_dp.head()"
   ]
  },
  {
   "cell_type": "code",
   "execution_count": null,
   "metadata": {},
   "outputs": [],
   "source": [
    "clf_fit_dp = clf.fit(X_train_dp, y_train_dp)\n",
    "\n",
    "# check the fit on the private data first\n",
    "y_pred_dp = clf_fit_dp.predict(#TODO)\n",
    "accuracy_score(#TODO, y_pred_dp)"
   ]
  },
  {
   "cell_type": "code",
   "execution_count": null,
   "metadata": {},
   "outputs": [],
   "source": [
    "# now see how private training impacts real data performance\n",
    "y_pred_dp_real = clf_fit_dp.predict(#TODO)\n",
    "accuracy_score(#TODO, y_pred_dp_real)"
   ]
  },
  {
   "cell_type": "markdown",
   "metadata": {},
   "source": [
    "Now, repeate the abo"
   ]
  }
 ],
 "metadata": {
  "kernelspec": {
   "display_name": "Python 3",
   "language": "python",
   "name": "python3"
  },
  "language_info": {
   "codemirror_mode": {
    "name": "ipython",
    "version": 3
   },
   "file_extension": ".py",
   "mimetype": "text/x-python",
   "name": "python",
   "nbconvert_exporter": "python",
   "pygments_lexer": "ipython3",
   "version": "3.7.6"
  }
 },
 "nbformat": 4,
 "nbformat_minor": 4
}
