{
 "cells": [
  {
   "cell_type": "markdown",
   "metadata": {},
   "source": [
    "# Differential Privacy Lab Setup"
   ]
  },
  {
   "cell_type": "markdown",
   "metadata": {},
   "source": [
    "We will be using code from Adan Sawarte's Lab at Rutgers as presented [here](https://www.ece.rutgers.edu/~hi53/DPSTATS.pdf) that is hosted on gitlab as [dp-stats](https://gitlab.com/dp-stats/dp-stats).\n",
    "\n",
    "First, we'll download and install their package. If you're on Mac or Linux you can run this notebook as followw.  On Windows copy these commands to your gitbash or andaconda prompts accordingly. "
   ]
  },
  {
   "cell_type": "code",
   "execution_count": null,
   "metadata": {},
   "outputs": [],
   "source": [
    "%%bash\n",
    "# cd .. # uncomment this line to download their code a level above where you cloned this repo\n",
    "# leave it commented to download their code into the folder where this project is\n",
    "git clone https://gitlab.com/dp-stats/dp-stats.git\n",
    "# windows-gitbash"
   ]
  },
  {
   "cell_type": "code",
   "execution_count": null,
   "metadata": {},
   "outputs": [],
   "source": [
    "%%bash\n",
    "cd dp-stats\n",
    "python setup.py install"
   ]
  },
  {
   "cell_type": "markdown",
   "metadata": {},
   "source": [
    "Now restart the kernel using the menu, to refresh the available packages, then test."
   ]
  },
  {
   "cell_type": "code",
   "execution_count": null,
   "metadata": {},
   "outputs": [],
   "source": [
    "# now test your install\n",
    "import dp_stats as dps"
   ]
  },
  {
   "cell_type": "markdown",
   "metadata": {},
   "source": [
    "Now use the other notebooks, which summarize their notebooks with minor changes."
   ]
  },
  {
   "cell_type": "code",
   "execution_count": null,
   "metadata": {},
   "outputs": [],
   "source": []
  }
 ],
 "metadata": {
  "kernelspec": {
   "display_name": "Python 3",
   "language": "python",
   "name": "python3"
  },
  "language_info": {
   "codemirror_mode": {
    "name": "ipython",
    "version": 3
   },
   "file_extension": ".py",
   "mimetype": "text/x-python",
   "name": "python",
   "nbconvert_exporter": "python",
   "pygments_lexer": "ipython3",
   "version": "3.6.4"
  }
 },
 "nbformat": 4,
 "nbformat_minor": 2
}
