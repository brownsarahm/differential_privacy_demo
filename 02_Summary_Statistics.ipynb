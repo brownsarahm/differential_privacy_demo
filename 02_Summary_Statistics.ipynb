{
 "cells": [
  {
   "cell_type": "markdown",
   "metadata": {},
   "source": [
    "# Differential Privacy for Summary Statistics"
   ]
  },
  {
   "cell_type": "code",
   "execution_count": 1,
   "metadata": {},
   "outputs": [],
   "source": [
    "from ipywidgets import interact\n",
    "from IPython.display import display\n",
    "import numpy as np\n",
    "import dp_stats as dps\n",
    "import pandas as pd\n",
    "%matplotlib inline\n",
    "import matplotlib.pyplot as plt\n",
    "import seaborn as sns"
   ]
  },
  {
   "cell_type": "markdown",
   "metadata": {},
   "source": [
    "## Differentially Private Mean\n",
    "---\n",
    "\n",
    "The following tutorial gives one example of how the `dp_mean()` function is called. The data samples are randomly drawn from a Gaussian distribution. The output of the `dp_mean()` function will be compared to a non-differentially private version of the sample mean: $\\bar{x}=\\frac{1}{n}\\sum_{i=1}^{n}x_i$. \n",
    "\n",
    "The parameters of differential privacy that can be adjusted are:\n",
    "\n",
    "- Epsilon\n",
    "- Delta\n",
    "- Sample_size"
   ]
  },
  {
   "cell_type": "code",
   "execution_count": 2,
   "metadata": {},
   "outputs": [
    {
     "data": {
      "image/png": "[encoded data removed]",
      "text/plain": [
       "<Figure size 432x288 with 1 Axes>"
      ]
     },
     "metadata": {
      "needs_background": "light"
     },
     "output_type": "display_data"
    },
    {
     "data": {
      "application/vnd.jupyter.widget-view+json": {
       "model_id": "e42eeff53a2d42b8ab3e1b4ca3f3fe9e",
       "version_major": 2,
       "version_minor": 0
      },
      "text/plain": [
       "interactive(children=(FloatSlider(value=1.5, description='Epsilon', max=3.0, min=0.01, step=0.01), FloatSlider…"
      ]
     },
     "metadata": {},
     "output_type": "display_data"
    }
   ],
   "source": [
    "\n",
    "max_sample_size = 100\n",
    "\n",
    "# generate a sample data vector\n",
    "data_normal = np.random.normal(loc = .5, scale = .150, size = max_sample_size)\n",
    "\n",
    "# DP mean requires numbers to be positive and within the range [0, 1]\n",
    "#     data_ = abs(data)\n",
    "data_normal = data_normal.clip(min = 0, max = 1.0)\n",
    "\n",
    "sns.distplot(data_normal)\n",
    "\n",
    "def show_mean(data,Epsilon=1.0, Delta = 0.1, Sample_size = 100):\n",
    "    # This function will allow the outputs of the means to be interactive\n",
    "    # This fucntion gives an example of using the dp_mean() function\n",
    "    # The true sample mean and differentially private mean of the data vector will be displayed for comparison\n",
    "    \n",
    "    data = data[:Sample_size]\n",
    "    \n",
    "    # find the non-differentially private mean of the generated data\n",
    "    mean_control = np.mean(data)\n",
    "    \n",
    "    # find the differentially private mean of the generated data\n",
    "    # dp_mean( data_vect, epsilon=1.0, delta=0.1 )\n",
    "    mean_dp = dps.dp_mean(data, epsilon = Epsilon, delta = Delta)\n",
    "    \n",
    "    # output the control and differentially private mean\n",
    "    control_txt = 'Non-private Mean: {}'.format(round(mean_control, 4))\n",
    "    display(control_txt)\n",
    "    dp_txt = 'Differentially Private Mean: {}'.format(round(float(mean_dp), 4))\n",
    "    display(dp_txt)\n",
    "    \n",
    "# this is the action for the sliders\n",
    "show_mean_interact = lambda Epsilon, Delta, Sample_size: show_mean(data_normal,Epsilon, Delta, Sample_size )\n",
    "\n",
    "# this actually creates the sliders\n",
    "interact(show_mean_interact, Epsilon=(0.01,3,0.01), Delta=(0.01,0.5,0.01), Sample_size=(1,max_sample_size,5));"
   ]
  },
  {
   "cell_type": "markdown",
   "metadata": {},
   "source": [
    "Each run of the cell generates a new dataset, changing the sample size uses a different amount of the same sample, changing other parameters re-privatizes the same dataset. The figure is of the whole dataset, not the subset\n",
    "\n",
    "<!-- It can be noted from the outputs that the differentially private mean will roughly come closer to the actual sample mean when the sample size becomes larger with fixed privacy level, or the privacy level becomes small (Epsilon being large) with fixed sample size. -->\n",
    "\n",
    "Let's verify that it does what we expect, by modifying the demo a little"
   ]
  },
  {
   "cell_type": "code",
   "execution_count": 19,
   "metadata": {},
   "outputs": [
    {
     "data": {
      "application/vnd.jupyter.widget-view+json": {
       "model_id": "b7cf0b27ce3f41a9841ee3875827d528",
       "version_major": 2,
       "version_minor": 0
      },
      "text/plain": [
       "interactive(children=(FloatSlider(value=1.5, description='Epsilon', max=3.0, min=0.01, step=0.01), IntSlider(v…"
      ]
     },
     "metadata": {},
     "output_type": "display_data"
    }
   ],
   "source": [
    "def show_mean_eps_only(data,Epsilon=1.0,  Sample_size = 100):\n",
    "    # This function will allow the outputs of the means to be interactive\n",
    "    # This fucntion gives an example of using the dp_mean() function\n",
    "    # The true sample mean and differentially private mean of the data vector will be displayed for comparison\n",
    "    \n",
    "    data = data[:Sample_size]\n",
    "    \n",
    "    # find the non-differentially private mean of the generated data\n",
    "    mean_control = np.mean(data)\n",
    "    \n",
    "    # find the differentially private mean of the generated data\n",
    "    # dp_mean( data_vect, epsilon=1.0, delta=0.1 )\n",
    "    mean_dp = dps.dp_mean(data, epsilon = Epsilon, delta = 0)\n",
    "    \n",
    "    data_opt_out = data.copy()\n",
    "    mean_dp_opt_out = dps.dp_mean(data[:-1], epsilon = Epsilon, delta = 0)\n",
    "#     print(data_opt_out)\n",
    "    \n",
    "    # output the control and differentially private mean\n",
    "    control_txt = 'Non-private Mean: {}'.format(round(mean_control, 4))\n",
    "    display(control_txt)\n",
    "    dp_txt = 'Differentially Private Mean: {}'.format(round(float(mean_dp), 4))\n",
    "    display(dp_txt)\n",
    "    dp_bound = 'Region for Leave one Out: {} - {}'.format(round(float(mean_control - 1/(Sample_size*Epsilon)), 4),\n",
    "                                                       round(float(mean_control + 1/(Sample_size*Epsilon)), 4))\n",
    "    display(dp_bound)\n",
    "    dp_txt_opt = 'Differentially Private Mean Without 1: {}'.format(round(float(mean_dp_opt_out), 4))\n",
    "    display(dp_txt_opt)\n",
    "    \n",
    "# this is the action for the sliders\n",
    "show_mean_interact_eps = lambda Epsilon, Sample_size: show_mean_eps_only(data_normal,Epsilon,  Sample_size )\n",
    "\n",
    "# this actually creates the sliders\n",
    "interact(show_mean_interact_eps, Epsilon=(0.01,3,0.01),  Sample_size=(1,max_sample_size,5));"
   ]
  },
  {
   "cell_type": "code",
   "execution_count": null,
   "metadata": {},
   "outputs": [],
   "source": []
  },
  {
   "cell_type": "markdown",
   "metadata": {},
   "source": [
    "### Understanding the parameters\n",
    "\n",
    "**What parameters can you change to make the private compuation match the nonprivate compuation?**\n",
    "\n",
    "Use the next cell(s) to set up an experiment that explores this question more formally.  \n",
    "\n",
    "The goal is to create a table like the one below(but longer) so that it can be plotted with a FacetGrid that shows subplots for (epsilon, delta) pairs and for each plots the two estimates vs number of samples. \n",
    "\n",
    "|sample_size | epsilon  |  delta |  stat_type | stat    | \n",
    "|------------|----------|--------|------------|---------|\n",
    "|10          |  0.1     | 0.1    |  true_mean | 0.462045| \n",
    "|10          |  0.1     | 0.1    |  dp_mean   | 1.585692| \n",
    "|10          |  0.1     | 0.2    |  true_mean | 0.462045| \n",
    "|10          |  0.1     | 0.2    |  dp_mean   | 1.627882| \n",
    "|10          |  0.1     | 0.3    |  true_mean | 0.462045| "
   ]
  },
  {
   "cell_type": "code",
   "execution_count": 3,
   "metadata": {},
   "outputs": [
    {
     "data": {
      "text/html": [
       "<div>\n",
       "<style scoped>\n",
       "    .dataframe tbody tr th:only-of-type {\n",
       "        vertical-align: middle;\n",
       "    }\n",
       "\n",
       "    .dataframe tbody tr th {\n",
       "        vertical-align: top;\n",
       "    }\n",
       "\n",
       "    .dataframe thead th {\n",
       "        text-align: right;\n",
       "    }\n",
       "</style>\n",
       "<table border=\"1\" class=\"dataframe\">\n",
       "  <thead>\n",
       "    <tr style=\"text-align: right;\">\n",
       "      <th></th>\n",
       "      <th>sample_size</th>\n",
       "      <th>epsilon</th>\n",
       "      <th>delta</th>\n",
       "      <th>stat_type</th>\n",
       "      <th>stat</th>\n",
       "    </tr>\n",
       "  </thead>\n",
       "  <tbody>\n",
       "    <tr>\n",
       "      <th>0</th>\n",
       "      <td>10</td>\n",
       "      <td>0.1</td>\n",
       "      <td>0.1</td>\n",
       "      <td>true_mean</td>\n",
       "      <td>0.483961</td>\n",
       "    </tr>\n",
       "    <tr>\n",
       "      <th>1</th>\n",
       "      <td>10</td>\n",
       "      <td>0.1</td>\n",
       "      <td>0.1</td>\n",
       "      <td>dp_mean</td>\n",
       "      <td>-0.486616</td>\n",
       "    </tr>\n",
       "    <tr>\n",
       "      <th>2</th>\n",
       "      <td>10</td>\n",
       "      <td>0.1</td>\n",
       "      <td>0.2</td>\n",
       "      <td>true_mean</td>\n",
       "      <td>0.483961</td>\n",
       "    </tr>\n",
       "    <tr>\n",
       "      <th>3</th>\n",
       "      <td>10</td>\n",
       "      <td>0.1</td>\n",
       "      <td>0.2</td>\n",
       "      <td>dp_mean</td>\n",
       "      <td>0.770661</td>\n",
       "    </tr>\n",
       "    <tr>\n",
       "      <th>4</th>\n",
       "      <td>10</td>\n",
       "      <td>0.1</td>\n",
       "      <td>0.3</td>\n",
       "      <td>true_mean</td>\n",
       "      <td>0.483961</td>\n",
       "    </tr>\n",
       "  </tbody>\n",
       "</table>\n",
       "</div>"
      ],
      "text/plain": [
       "   sample_size  epsilon  delta  stat_type      stat\n",
       "0           10      0.1    0.1  true_mean  0.483961\n",
       "1           10      0.1    0.1    dp_mean -0.486616\n",
       "2           10      0.1    0.2  true_mean  0.483961\n",
       "3           10      0.1    0.2    dp_mean  0.770661\n",
       "4           10      0.1    0.3  true_mean  0.483961"
      ]
     },
     "execution_count": 3,
     "metadata": {},
     "output_type": "execute_result"
    }
   ],
   "source": [
    "sample_size_list = [10, 50,400]\n",
    "epsilon_list = [.1,.2,.5,1]\n",
    "delta_list = [.1,.2,.3]\n",
    "expt_result = []\n",
    "\n",
    "for ss in sample_size_list:\n",
    "    for epsilon in epsilon_list:\n",
    "        for delta in delta_list: \n",
    "    \n",
    "            data = data_normal[:ss]\n",
    "            mean_control = np.mean(data)\n",
    "            expt_result.append([ss,epsilon,delta,'true_mean',mean_control])\n",
    "\n",
    "            mean_dp = dps.dp_mean(data, epsilon = epsilon, delta = delta)\n",
    "            expt_result.append([ss,epsilon,delta,'dp_mean',mean_dp[0]])\n",
    "    \n",
    "expt_vars = ['sample_size','epsilon','delta','stat_type','stat']\n",
    "mean_dp_exp_df = pd.DataFrame(data = expt_result, columns = expt_vars)\n",
    "mean_dp_exp_df.head()"
   ]
  },
  {
   "cell_type": "code",
   "execution_count": 4,
   "metadata": {},
   "outputs": [
    {
     "data": {
      "image/png": "[encoded data removed]",
      "text/plain": [
       "<Figure size 737.75x864 with 12 Axes>"
      ]
     },
     "metadata": {
      "needs_background": "light"
     },
     "output_type": "display_data"
    }
   ],
   "source": [
    "g = sns.FacetGrid(data = mean_dp_exp_df, row = 'epsilon',col='delta',hue='stat_type')\n",
    "g = g.map(plt.plot,'sample_size','stat').add_legend()"
   ]
  },
  {
   "cell_type": "markdown",
   "metadata": {},
   "source": [
    "Can you extend the experiment to run multiple random samples of the dataset for each sample size, average the results and plot the trial and mean results?"
   ]
  },
  {
   "cell_type": "code",
   "execution_count": null,
   "metadata": {},
   "outputs": [],
   "source": []
  },
  {
   "cell_type": "code",
   "execution_count": null,
   "metadata": {},
   "outputs": [],
   "source": []
  },
  {
   "cell_type": "markdown",
   "metadata": {},
   "source": [
    "## Differentially Private Variance\n",
    "---\n",
    "\n",
    "The following tutorial gives one example of how the `dp_var()` funciton is called. The data samples are randomly drawn from a Gaussian distribution. The output of the `dp_var()` function will be compared to a non-differentially private version of the sample variance: $\\sigma^2=\\frac{1}{n}\\sum_{i=1}^{n}(x_i-\\bar{x})^2$, where $\\bar{x}$ is the sample mean. \n",
    "\n",
    "The parameters that can be adjusted are:\n",
    "\n",
    "- Epsilon\n",
    "- Delta\n",
    "- Sample_size"
   ]
  },
  {
   "cell_type": "code",
   "execution_count": 5,
   "metadata": {},
   "outputs": [
    {
     "data": {
      "image/png": "[encoded data removed]",
      "text/plain": [
       "<Figure size 432x288 with 1 Axes>"
      ]
     },
     "metadata": {
      "needs_background": "light"
     },
     "output_type": "display_data"
    },
    {
     "data": {
      "application/vnd.jupyter.widget-view+json": {
       "model_id": "a8111d9804954d54b6dbf6aa1f00a99c",
       "version_major": 2,
       "version_minor": 0
      },
      "text/plain": [
       "interactive(children=(FloatSlider(value=1.5, description='Epsilon', max=3.0, min=0.01, step=0.01), FloatSlider…"
      ]
     },
     "metadata": {},
     "output_type": "display_data"
    }
   ],
   "source": [
    "\n",
    "# generate a sample data vector\n",
    "data_normal = np.random.normal(loc = .5, scale = .150, size = max_sample_size)\n",
    "\n",
    "# DP mean requires numbers to be positive and within the range [0, 1]\n",
    "#     data_ = abs(data)\n",
    "data_normal = data_normal.clip(min = 0, max = 1.0)\n",
    "\n",
    "sns.distplot(data_normal)\n",
    "\n",
    "# This function will allow the output of the variances to be interactive\n",
    "def show_variance(data,Epsilon=1.0, Delta = 0.1, Sample_size = 100):\n",
    "    data = data[:Sample_size]\n",
    "    \n",
    "\n",
    "    # find the non-differentially private variance of the generated data\n",
    "    mean_control = (np.sum(data) * 1.0) / (Sample_size * 1.0)\n",
    "    var_control = np.var(data)\n",
    "\n",
    "    \n",
    "    # find the differentially private variance of the generated data\n",
    "    # dp_var( data_vector,epsilon=1.0,delta=0.1 )\n",
    "    var_dp = dps.dp_var(data, epsilon = Epsilon, delta = Delta,)\n",
    "    \n",
    "    # output the control and differentially private variance\n",
    "    control_txt = \"Non-private Variance: {}\".format(round(var_control, 4))\n",
    "    display(control_txt)\n",
    "    dp_txt = \"Differentially Private Variance: {}\".format(round(float(var_dp), 4))\n",
    "    display(dp_txt)\n",
    "    \n",
    "show_variance_interact = lambda Epsilon, Delta, Sample_size: show_variance(data_normal,Epsilon=1.0, Delta = 0.1, Sample_size = 100)\n",
    "\n",
    "\n",
    "interact(show_variance_interact, Epsilon=(0.01,3.0,0.01), Delta=(0.01,0.5,0.01), Sample_size=(1,max_sample_size,5));"
   ]
  },
  {
   "cell_type": "markdown",
   "metadata": {},
   "source": [
    "Each run of the cell generates a new dataset, changing the sample size uses a different amount of the same sample, changing other parameters re-privatizes the same dataset."
   ]
  },
  {
   "cell_type": "markdown",
   "metadata": {},
   "source": [
    "## Differentially Private Histogram\n",
    "---\n",
    "\n",
    "The following tutorial gives one example of how the `dp_hist()` function is called. The data samples are randomly drawn from a Gaussian distribution. The output of the `dp_hist()` function will be used to populate a bar graph and show the empirical distribution of the data. In addition, a non-private version of the histogram will be shown as a comparison.\n",
    "\n",
    "The parameters that can be adjusted are:\n",
    "\n",
    "- Epsilon\n",
    "- Sample_size\n"
   ]
  },
  {
   "cell_type": "code",
   "execution_count": 6,
   "metadata": {},
   "outputs": [
    {
     "data": {
      "application/vnd.jupyter.widget-view+json": {
       "model_id": "8ee5b48a8f984416a579846592beabba",
       "version_major": 2,
       "version_minor": 0
      },
      "text/plain": [
       "interactive(children=(FloatSlider(value=1.0, description='Epsilon', max=3.0, min=0.1), IntSlider(value=2500, d…"
      ]
     },
     "metadata": {},
     "output_type": "display_data"
    }
   ],
   "source": [
    "# This function will allow the output graphs to be interactive\n",
    "def plthist(Epsilon=1.0, Sample_size = 2500):\n",
    "    # generate a sample data vector\n",
    "    data_ = np.random.normal(loc = 0, scale = 1.0, size = Sample_size)\n",
    "\n",
    "    # get the histogram count and bin edges from the differentially private histogram\n",
    "    # dp_hist ( data, num_bins=10, epsilon=1.0, delta=0.1, histtype = 'continuous' )\n",
    "    dp_hist_counts, bin_edges = dps.dp_hist(data = data_, num_bins = 10, epsilon = Epsilon, delta = 0.1)\n",
    "\n",
    "    dp_hist_counts = dp_hist_counts.clip(min = 0)    # number of items in bin can't be negative\n",
    "    bin_edges_ = bin_edges[:len(dp_hist_counts)]    # grab only the left edge for each bin\n",
    "\n",
    "    # get the width for each of the bins\n",
    "    width_ = []\n",
    "    for i in range(len(bin_edges) - 1):\n",
    "        app = bin_edges[i + 1] - bin_edges[i]\n",
    "        width_.append(app)\n",
    "        \n",
    "    f, axs = plt.subplots(1,2,figsize=(15,5))\n",
    "    # plot the non-differentially private version of the histogram\n",
    "    axs[0].hist(data_, bins=10)\n",
    "    axs[0].set_title('Non-differentially Private Histogram')\n",
    "    axs[0].set_xlabel('Data Distribution')\n",
    "    axs[0].set_ylabel('Frequency')\n",
    "    axs[0].grid(True)\n",
    "    \n",
    "#     plt.subplot(1, 2, 2)\n",
    "    # plot the differentially private version of the histogram\n",
    "    axs[1].bar(bin_edges_, dp_hist_counts, width_)\n",
    "    axs[1].set_title('Differentially Private Histogram')\n",
    "    axs[1].set_xlabel('Data Distribution')\n",
    "    axs[1].set_ylabel('Frequency')\n",
    "    axs[1].grid(True)\n",
    "\n",
    "\n",
    "\n",
    "interact(plthist, Epsilon=(0.1,3.0,0.1), Sample_size=(100,5000,10));"
   ]
  },
  {
   "cell_type": "markdown",
   "metadata": {},
   "source": [
    "## Out of distribution\n",
    "\n",
    "Do other data settings change how these statistics compute?"
   ]
  },
  {
   "cell_type": "code",
   "execution_count": 13,
   "metadata": {},
   "outputs": [
    {
     "data": {
      "image/png": "[encoded data removed]",
      "text/plain": [
       "<Figure size 432x288 with 1 Axes>"
      ]
     },
     "metadata": {
      "needs_background": "light"
     },
     "output_type": "display_data"
    },
    {
     "data": {
      "application/vnd.jupyter.widget-view+json": {
       "model_id": "02659ec5ede24d599137467bd53e7ac9",
       "version_major": 2,
       "version_minor": 0
      },
      "text/plain": [
       "interactive(children=(FloatSlider(value=1.5, description='Epsilon', max=3.0, min=0.01, step=0.01), FloatSlider…"
      ]
     },
     "metadata": {},
     "output_type": "display_data"
    }
   ],
   "source": [
    "# generate a sample data vector\n",
    "data_0 = np.random.normal(loc = .25, scale = .050, size = max_sample_size)\n",
    "data_1 = np.random.normal(loc = .75, scale = .050, size = max_sample_size*2)\n",
    "\n",
    "data_mix = np.concatenate([data_0,data_1])\n",
    "\n",
    "# DP mean requires numbers to be positive and within the range [0, 1]\n",
    "#     data_ = abs(data)\n",
    "data_mix = data_mix.clip(min = 0, max = 1.0)\n",
    "\n",
    "sns.distplot(data_mix)\n",
    "\n",
    "   \n",
    "# this is the action for the sliders\n",
    "show_mean_interact = lambda Epsilon, Delta, Sample_size: show_mean(data_mix,Epsilon, Delta, Sample_size )\n",
    "\n",
    "# this actually creates the sliders\n",
    "interact(show_mean_interact, Epsilon=(0.01,3,0.01), Delta=(0.01,0.5,0.01), Sample_size=(1,max_sample_size*3,5));"
   ]
  },
  {
   "cell_type": "code",
   "execution_count": null,
   "metadata": {},
   "outputs": [],
   "source": []
  }
 ],
 "metadata": {
  "anaconda-cloud": {},
  "kernelspec": {
   "display_name": "Python 3",
   "language": "python",
   "name": "python3"
  },
  "language_info": {
   "codemirror_mode": {
    "name": "ipython",
    "version": 3
   },
   "file_extension": ".py",
   "mimetype": "text/x-python",
   "name": "python",
   "nbconvert_exporter": "python",
   "pygments_lexer": "ipython3",
   "version": "3.7.6"
  }
 },
 "nbformat": 4,
 "nbformat_minor": 4
}
